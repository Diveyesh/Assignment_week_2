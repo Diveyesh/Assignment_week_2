{
  "nbformat": 4,
  "nbformat_minor": 0,
  "metadata": {
    "colab": {
      "provenance": []
    },
    "kernelspec": {
      "name": "python3",
      "display_name": "Python 3"
    },
    "language_info": {
      "name": "python"
    }
  },
  "cells": [
    {
      "cell_type": "markdown",
      "source": [
        "##Submitted By - Diveyesh\n"
      ],
      "metadata": {
        "id": "tbbmneWf76he"
      }
    },
    {
      "cell_type": "markdown",
      "source": [
        "#Question- 1\n"
      ],
      "metadata": {
        "id": "3e5kOu6m8B8W"
      }
    },
    {
      "cell_type": "markdown",
      "source": [
        "Single line comments can be added by adding # in starting. Example shown below:-"
      ],
      "metadata": {
        "id": "qFDXFy_Y8M5b"
      }
    },
    {
      "cell_type": "code",
      "source": [
        "#single line comment."
      ],
      "metadata": {
        "id": "-xx_Ijqo8Cfh"
      },
      "execution_count": null,
      "outputs": []
    },
    {
      "cell_type": "markdown",
      "source": [
        "Multi line comments can be added by placing the content between triple double quotes.\"\"\".....\"\"\" . Example shown below:-"
      ],
      "metadata": {
        "id": "-Wcbu9oL8heZ"
      }
    },
    {
      "cell_type": "code",
      "source": [
        "\"\"\"This is an example\n",
        "of multi\n",
        "line comment\"\"\"\n"
      ],
      "metadata": {
        "colab": {
          "base_uri": "https://localhost:8080/",
          "height": 36
        },
        "id": "sw3Lu21w8CpV",
        "outputId": "f5946220-5ed2-4ab3-b617-1a047fe58748"
      },
      "execution_count": 3,
      "outputs": [
        {
          "output_type": "execute_result",
          "data": {
            "text/plain": [
              "'This is an example\\nof multi\\nline comment'"
            ],
            "application/vnd.google.colaboratory.intrinsic+json": {
              "type": "string"
            }
          },
          "metadata": {},
          "execution_count": 3
        }
      ]
    },
    {
      "cell_type": "markdown",
      "source": [
        "##Question-2"
      ],
      "metadata": {
        "id": "oKOlJ6ow9ooS"
      }
    },
    {
      "cell_type": "code",
      "source": [
        "#Python variables are the reserved memory locations used to store values with in a Python Program.\n",
        "#Python has no command for declaring a variable. A variable is created when some value is assigned to it.\n",
        "#The value assigned to a variable determines the data type of that variable.\n",
        "#The assignment operator, denoted by the “=” symbol, is the operator that is used to assign values to variables in Python. example\n",
        "variable_1 = \"sample variable\"\n",
        "print(variable_1)"
      ],
      "metadata": {
        "colab": {
          "base_uri": "https://localhost:8080/"
        },
        "id": "41rh52uB8CsN",
        "outputId": "c7baef2d-f5bf-4947-a196-c19d3a7c870d"
      },
      "execution_count": 5,
      "outputs": [
        {
          "output_type": "stream",
          "name": "stdout",
          "text": [
            "sample variable\n"
          ]
        }
      ]
    },
    {
      "cell_type": "markdown",
      "source": [
        "#Question - 3"
      ],
      "metadata": {
        "id": "H5qYmQxJ-8Ie"
      }
    },
    {
      "cell_type": "code",
      "source": [
        "#we can convert one data type to other using type casting.As shown below."
      ],
      "metadata": {
        "id": "9hRbZQO48Cuw"
      },
      "execution_count": null,
      "outputs": []
    },
    {
      "cell_type": "code",
      "source": [
        "var_string = \"12345\"\n",
        "print(type(var_string))"
      ],
      "metadata": {
        "colab": {
          "base_uri": "https://localhost:8080/"
        },
        "id": "qkTsFte-8Cxh",
        "outputId": "ad4b033a-289b-4550-b44e-9c18cc9266a2"
      },
      "execution_count": 6,
      "outputs": [
        {
          "output_type": "execute_result",
          "data": {
            "text/plain": [
              "str"
            ]
          },
          "metadata": {},
          "execution_count": 6
        }
      ]
    },
    {
      "cell_type": "code",
      "source": [
        "#type-casting to integer\n",
        "int(var_string)\n",
        "print(type(int(var_string)))"
      ],
      "metadata": {
        "colab": {
          "base_uri": "https://localhost:8080/"
        },
        "id": "bdHR2TwB8Czw",
        "outputId": "1a96dfa4-b708-4d6b-fca6-9f046123ea00"
      },
      "execution_count": 8,
      "outputs": [
        {
          "output_type": "stream",
          "name": "stdout",
          "text": [
            "<class 'int'>\n"
          ]
        }
      ]
    },
    {
      "cell_type": "markdown",
      "source": [
        "#Question - 4 \n"
      ],
      "metadata": {
        "id": "uyDnA9Cy_-3t"
      }
    },
    {
      "cell_type": "code",
      "source": [
        "#1 Open a text editor and create a new file. Save it with a .py extension. example - print.py"
      ],
      "metadata": {
        "id": "xTpk0k9l8C2d"
      },
      "execution_count": null,
      "outputs": []
    },
    {
      "cell_type": "code",
      "source": [
        "#2 Open the file in the text editor and write your Python code within it."
      ],
      "metadata": {
        "id": "w2u94YJV8D2W"
      },
      "execution_count": null,
      "outputs": []
    },
    {
      "cell_type": "code",
      "source": [
        "#3 save the file and open command line."
      ],
      "metadata": {
        "id": "d2-6a6A18D5A"
      },
      "execution_count": null,
      "outputs": []
    },
    {
      "cell_type": "code",
      "source": [
        "#4 Navigate to the directory where Python script is saved."
      ],
      "metadata": {
        "id": "h6s49Vm18D7t"
      },
      "execution_count": null,
      "outputs": []
    },
    {
      "cell_type": "code",
      "source": [
        "#5 Once you are in the correct directory, you can execute the Python script by running the python command.\n",
        "#Followed by the name of script. ex.-python print.py"
      ],
      "metadata": {
        "id": "NxRxM1eg8D99"
      },
      "execution_count": null,
      "outputs": []
    },
    {
      "cell_type": "code",
      "source": [
        "#6 Press Enter, and the Python interpreter will execute script."
      ],
      "metadata": {
        "id": "l4Ari7Il8EAn"
      },
      "execution_count": null,
      "outputs": []
    },
    {
      "cell_type": "markdown",
      "source": [
        "# Question -5"
      ],
      "metadata": {
        "id": "9CwsW-8wFBUQ"
      }
    },
    {
      "cell_type": "code",
      "source": [
        "my_list = [1, 2, 3, 4, 5]"
      ],
      "metadata": {
        "id": "gKQWMEhJ8EDL"
      },
      "execution_count": 10,
      "outputs": []
    },
    {
      "cell_type": "code",
      "source": [
        "my_list[1:3]"
      ],
      "metadata": {
        "colab": {
          "base_uri": "https://localhost:8080/"
        },
        "id": "wFxlL54LFQ7x",
        "outputId": "9184b918-a2eb-48d9-c596-4be29d48ed55"
      },
      "execution_count": 11,
      "outputs": [
        {
          "output_type": "execute_result",
          "data": {
            "text/plain": [
              "[2, 3]"
            ]
          },
          "metadata": {},
          "execution_count": 11
        }
      ]
    },
    {
      "cell_type": "markdown",
      "source": [
        "#Question -6"
      ],
      "metadata": {
        "id": "hVAhbJ2_FZyk"
      }
    },
    {
      "cell_type": "code",
      "source": [
        "#Complex numbers are the numbers that are expressed in the form of a+ib.\n",
        "#where, a,b are real numbers and 'i' is an imaginary number called “iota”."
      ],
      "metadata": {
        "id": "n7ypjFR2FQ1y"
      },
      "execution_count": null,
      "outputs": []
    },
    {
      "cell_type": "code",
      "source": [
        "complex_number = 4 + 5j  #here j is imaginary number"
      ],
      "metadata": {
        "id": "zrEx0Y42FQyc"
      },
      "execution_count": 12,
      "outputs": []
    },
    {
      "cell_type": "code",
      "source": [
        "complex_number.real"
      ],
      "metadata": {
        "colab": {
          "base_uri": "https://localhost:8080/"
        },
        "id": "1Il0nrCQFQs-",
        "outputId": "493d6342-3ee2-4d63-eae5-3122a90f4e81"
      },
      "execution_count": 14,
      "outputs": [
        {
          "output_type": "execute_result",
          "data": {
            "text/plain": [
              "4.0"
            ]
          },
          "metadata": {},
          "execution_count": 14
        }
      ]
    },
    {
      "cell_type": "code",
      "source": [
        "complex_number.imag"
      ],
      "metadata": {
        "colab": {
          "base_uri": "https://localhost:8080/"
        },
        "id": "IQwSt9-pFQqo",
        "outputId": "c027da7e-38b7-498c-fcfd-cb411b972389"
      },
      "execution_count": 15,
      "outputs": [
        {
          "output_type": "execute_result",
          "data": {
            "text/plain": [
              "5.0"
            ]
          },
          "metadata": {},
          "execution_count": 15
        }
      ]
    },
    {
      "cell_type": "markdown",
      "source": [
        "#Question - 7"
      ],
      "metadata": {
        "id": "1hy5DKc0GzCp"
      }
    },
    {
      "cell_type": "code",
      "source": [
        "age = 25"
      ],
      "metadata": {
        "id": "RhVrDWqXGn87"
      },
      "execution_count": 16,
      "outputs": []
    },
    {
      "cell_type": "markdown",
      "source": [
        "#Question - 8"
      ],
      "metadata": {
        "id": "3fEDIIikHC_y"
      }
    },
    {
      "cell_type": "code",
      "source": [
        "price = 9.99"
      ],
      "metadata": {
        "id": "ntUFuJVeGn60"
      },
      "execution_count": 17,
      "outputs": []
    },
    {
      "cell_type": "code",
      "source": [
        "type(price)"
      ],
      "metadata": {
        "colab": {
          "base_uri": "https://localhost:8080/"
        },
        "id": "fnusBoN2Gn4Q",
        "outputId": "eda0d8fa-37f4-4d50-c378-33862f46af12"
      },
      "execution_count": 18,
      "outputs": [
        {
          "output_type": "execute_result",
          "data": {
            "text/plain": [
              "float"
            ]
          },
          "metadata": {},
          "execution_count": 18
        }
      ]
    },
    {
      "cell_type": "markdown",
      "source": [
        "#Question -9"
      ],
      "metadata": {
        "id": "nNiO1IWSHRKE"
      }
    },
    {
      "cell_type": "code",
      "source": [
        "name = \"Diveyesh\""
      ],
      "metadata": {
        "id": "ovtw6zcZGn17"
      },
      "execution_count": 19,
      "outputs": []
    },
    {
      "cell_type": "code",
      "source": [
        "print(name)"
      ],
      "metadata": {
        "colab": {
          "base_uri": "https://localhost:8080/"
        },
        "id": "jRns6mOAGnzR",
        "outputId": "c9f40274-3778-4399-90db-c4e88ea9f79f"
      },
      "execution_count": 20,
      "outputs": [
        {
          "output_type": "stream",
          "name": "stdout",
          "text": [
            "Diveyesh\n"
          ]
        }
      ]
    },
    {
      "cell_type": "code",
      "source": [],
      "metadata": {
        "id": "fgCTtjmdGnw4"
      },
      "execution_count": null,
      "outputs": []
    },
    {
      "cell_type": "markdown",
      "source": [
        "#Question - 10\n"
      ],
      "metadata": {
        "id": "gI22jzTbHlIY"
      }
    },
    {
      "cell_type": "code",
      "source": [
        "string_2 = \"Hello, World!\""
      ],
      "metadata": {
        "id": "Rd7PHzMbGnum"
      },
      "execution_count": 22,
      "outputs": []
    },
    {
      "cell_type": "code",
      "source": [
        "string_2[-6:-1]"
      ],
      "metadata": {
        "colab": {
          "base_uri": "https://localhost:8080/",
          "height": 36
        },
        "id": "EmrX1VbnGnr9",
        "outputId": "50d1bdb1-b170-403c-9a9e-5face4da1eed"
      },
      "execution_count": 26,
      "outputs": [
        {
          "output_type": "execute_result",
          "data": {
            "text/plain": [
              "'World'"
            ],
            "application/vnd.google.colaboratory.intrinsic+json": {
              "type": "string"
            }
          },
          "metadata": {},
          "execution_count": 26
        }
      ]
    },
    {
      "cell_type": "markdown",
      "source": [
        "#Question - 11"
      ],
      "metadata": {
        "id": "5LwMKEbfIRKP"
      }
    },
    {
      "cell_type": "code",
      "source": [
        "is_student = False"
      ],
      "metadata": {
        "id": "0LtzKdm9GnpH"
      },
      "execution_count": 27,
      "outputs": []
    }
  ]
}